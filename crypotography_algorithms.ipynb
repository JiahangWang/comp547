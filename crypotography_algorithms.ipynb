{
  "nbformat": 4,
  "nbformat_minor": 0,
  "metadata": {
    "colab": {
      "provenance": [],
      "toc_visible": true
    },
    "kernelspec": {
      "name": "python3",
      "display_name": "Python 3"
    },
    "language_info": {
      "name": "python"
    }
  },
  "cells": [
    {
      "cell_type": "code",
      "source": [
        "from sympy.ntheory.modular import crt\n",
        "import random\n",
        "import math\n",
        "from sympy.ntheory.residue_ntheory import sqrt_mod\n",
        "from math import gcd, isqrt\n",
        "from sympy import isprime"
      ],
      "metadata": {
        "id": "f07B64zqmFsG"
      },
      "execution_count": null,
      "outputs": []
    },
    {
      "cell_type": "markdown",
      "source": [
        "## GCD"
      ],
      "metadata": {
        "id": "b2dKA5MGBZZu"
      }
    },
    {
      "cell_type": "code",
      "source": [
        "import math\n",
        "\n",
        "a = 11\n",
        "b = 37\n",
        "gcd = math.gcd(a, b)\n",
        "print(gcd)"
      ],
      "metadata": {
        "colab": {
          "base_uri": "https://localhost:8080/"
        },
        "id": "yMV6MGHU8OY6",
        "outputId": "f75f02c9-c601-4670-e86d-ce1efd7fd6ef"
      },
      "execution_count": null,
      "outputs": [
        {
          "output_type": "stream",
          "name": "stdout",
          "text": [
            "1\n"
          ]
        }
      ]
    },
    {
      "cell_type": "markdown",
      "source": [
        "## Extended Euclidean Algorithm"
      ],
      "metadata": {
        "id": "gB56XQq4uFml"
      }
    },
    {
      "cell_type": "code",
      "source": [
        "def extended_gcd(a, b):\n",
        "    if b == 0:\n",
        "        return a, 1, 0\n",
        "    else:\n",
        "        gcd, x1, y1 = extended_gcd(b, a % b)\n",
        "        x = y1\n",
        "        y = x1 - (a // b) * y1\n",
        "        return gcd, x, y\n",
        "\n",
        "# 测试\n",
        "a = 4691456\n",
        "b = 12573792\n",
        "gcd, x, y = extended_gcd(a, b)\n",
        "print(f\"gcd({a}, {b}) = {gcd}\")\n",
        "print(f\"x = {x}, y = {y}\")"
      ],
      "metadata": {
        "colab": {
          "base_uri": "https://localhost:8080/"
        },
        "id": "BLuOkiCluDW5",
        "outputId": "a83ee196-da06-4059-f4d5-6b43145487a1"
      },
      "execution_count": null,
      "outputs": [
        {
          "output_type": "stream",
          "name": "stdout",
          "text": [
            "gcd(4691456, 12573792) = 17248\n",
            "x = -67, y = 25\n"
          ]
        }
      ]
    },
    {
      "cell_type": "markdown",
      "source": [
        "## find mod inverse"
      ],
      "metadata": {
        "id": "YFFkHkDRvNaP"
      }
    },
    {
      "cell_type": "code",
      "source": [
        "def extended_gcd(a, b):\n",
        "    if b == 0:\n",
        "        return a, 1, 0\n",
        "    else:\n",
        "        gcd, x1, y1 = extended_gcd(b, a % b)\n",
        "        x = y1\n",
        "        y = x1 - (a // b) * y1\n",
        "        return gcd, x, y\n",
        "\n",
        "def mod_inverse(a, m):\n",
        "    gcd, x, _ = extended_gcd(a, m)\n",
        "    if gcd != 1:\n",
        "        raise ValueError(f\"No modular inverse exists for {a} mod {m}\")\n",
        "    else:\n",
        "        return x % m\n",
        "\n",
        "# 示例用法\n",
        "a = 237\n",
        "m = 238\n",
        "inverse = mod_inverse(a, m)\n",
        "print(f\"The modular inverse of {a} mod {m} is {inverse}\")"
      ],
      "metadata": {
        "colab": {
          "base_uri": "https://localhost:8080/"
        },
        "id": "X_jsWF0NvMxU",
        "outputId": "492ea4d2-816a-49b0-9e76-0e0aefad1653"
      },
      "execution_count": null,
      "outputs": [
        {
          "output_type": "stream",
          "name": "stdout",
          "text": [
            "The modular inverse of 237 mod 238 is 237\n"
          ]
        }
      ]
    },
    {
      "cell_type": "markdown",
      "source": [
        "## Euler function"
      ],
      "metadata": {
        "id": "Ac35RWokB9aO"
      }
    },
    {
      "cell_type": "code",
      "source": [
        "import sympy\n",
        "\n",
        "# Defining the number\n",
        "n = 261011319\n",
        "\n",
        "# Calculating the Euler's totient function (phi function)\n",
        "euler_totient = sympy.totient(n)\n",
        "euler_totient"
      ],
      "metadata": {
        "colab": {
          "base_uri": "https://localhost:8080/",
          "height": 37
        },
        "id": "74dtEcZPB8kZ",
        "outputId": "2a651c4f-2d3d-4bd0-820b-538b1d57d6f9"
      },
      "execution_count": null,
      "outputs": [
        {
          "output_type": "execute_result",
          "data": {
            "text/plain": [
              "163771776"
            ],
            "text/latex": "$\\displaystyle 163771776$"
          },
          "metadata": {},
          "execution_count": 22
        }
      ]
    },
    {
      "cell_type": "markdown",
      "source": [
        "## Prime Factorization"
      ],
      "metadata": {
        "id": "Kg_J9iOYH_g6"
      }
    },
    {
      "cell_type": "code",
      "source": [
        "from sympy import factorint\n",
        "\n",
        "# 输入需要分解的数\n",
        "# n = 262915409\n",
        "n = 261011319\n",
        "\n",
        "# 获取素因数分解\n",
        "factors = factorint(n)\n",
        "\n",
        "# 将结果格式化为直观的数学表达式\n",
        "factorization = ' * '.join([f'{prime}^{exp}' if exp > 1 else f'{prime}' for prime, exp in factors.items()])\n",
        "\n",
        "# 输出结果\n",
        "print(f\"Prime factorization of {n}: {factorization}\")"
      ],
      "metadata": {
        "colab": {
          "base_uri": "https://localhost:8080/"
        },
        "id": "SxGeJM3LH-S9",
        "outputId": "1a769052-dce1-49d1-ac0d-b5148ea6c336"
      },
      "execution_count": null,
      "outputs": [
        {
          "output_type": "stream",
          "name": "stdout",
          "text": [
            "Prime factorization of 261011319: 3 * 17 * 5117869\n"
          ]
        }
      ]
    },
    {
      "cell_type": "code",
      "source": [
        "from sympy import factorint\n",
        "\n",
        "# 输入需要分解的数\n",
        "n = 263176513\n",
        "# n = 261011319\n",
        "\n",
        "# 获取素因数分解\n",
        "factors = factorint(n)\n",
        "\n",
        "# 将结果格式化为直观的数学表达式\n",
        "factorization = ' * '.join([f'{prime}^{exp}' if exp > 1 else f'{prime}' for prime, exp in factors.items()])\n",
        "\n",
        "# 输出结果\n",
        "print(f\"Prime factorization of {n}: {factorization}\")"
      ],
      "metadata": {
        "colab": {
          "base_uri": "https://localhost:8080/"
        },
        "id": "s3be46mSmfIC",
        "outputId": "c980cffb-d7ca-4175-812a-c2d49b2f98a1"
      },
      "execution_count": null,
      "outputs": [
        {
          "output_type": "stream",
          "name": "stdout",
          "text": [
            "Prime factorization of 263176513: 16127 * 16319\n"
          ]
        }
      ]
    },
    {
      "cell_type": "markdown",
      "source": [
        "## Jacobi symbol"
      ],
      "metadata": {
        "id": "cw0s9Qp3ytaV"
      }
    },
    {
      "cell_type": "code",
      "source": [
        "def jacobi_symbol(a, p):\n",
        "    if p <= 0 or p % 2 == 0:\n",
        "        raise ValueError(\"p must be a positive odd number\")\n",
        "\n",
        "    a = a % p\n",
        "    jacobi = 1\n",
        "\n",
        "    while a != 0:\n",
        "        # Step 1: Simplify even values of 'a'\n",
        "        while a % 2 == 0:\n",
        "            a //= 2\n",
        "            if p % 8 in [3, 5]:\n",
        "                jacobi = -jacobi\n",
        "\n",
        "        # Step 2: Apply quadratic reciprocity\n",
        "        a, p = p, a  # Swap a and p\n",
        "        if a % 4 == 3 and p % 4 == 3:\n",
        "            jacobi = -jacobi\n",
        "\n",
        "        a = a % p\n",
        "\n",
        "    # Step 3: If p is 1, return jacobi symbol\n",
        "    if p == 1:\n",
        "        return jacobi\n",
        "    else:\n",
        "        return 0\n",
        "\n",
        "\n",
        "a = 261120319\n",
        "p = 16319\n",
        "result = jacobi_symbol(a, p)\n",
        "print(f\"Jacobi symbol ({a} / {p}) = {result}\")"
      ],
      "metadata": {
        "colab": {
          "base_uri": "https://localhost:8080/"
        },
        "id": "ppeXjXzIkK5o",
        "outputId": "20bb5bf9-d2d8-4be5-838c-ef4d97fdf8ee"
      },
      "execution_count": null,
      "outputs": [
        {
          "output_type": "stream",
          "name": "stdout",
          "text": [
            "Jacobi symbol (261120319 / 16319) = 0\n"
          ]
        }
      ]
    },
    {
      "cell_type": "code",
      "source": [
        "from sympy.functions.combinatorial.numbers import jacobi_symbol\n",
        "\n",
        "# 计算 Jacobi 符号 (a / p)\n",
        "# a = 3\n",
        "a = 5\n",
        "p = 16319  # 可以是任意奇数，包括非素数\n",
        "result = jacobi_symbol(a, p)\n",
        "\n",
        "print(f\"Jacobi symbol ({a} / {p}) = {result}\")"
      ],
      "metadata": {
        "colab": {
          "base_uri": "https://localhost:8080/"
        },
        "id": "EOBJQXqYFs0r",
        "outputId": "23b6adda-85b0-4589-ba66-4ca3961ddc75"
      },
      "execution_count": null,
      "outputs": [
        {
          "output_type": "stream",
          "name": "stdout",
          "text": [
            "Jacobi symbol (5 / 16319) = 1\n"
          ]
        }
      ]
    },
    {
      "cell_type": "code",
      "source": [
        "from sympy.ntheory.residue_ntheory import is_quad_residue\n",
        "\n",
        "# Given values\n",
        "# N = 262915409\n",
        "N = 263176513\n",
        "s = 261011326\n",
        "\n",
        "# List of values to check for quadratic residues mod N\n",
        "values = [s, -s, 5 * s, -5 * s]\n",
        "\n",
        "# Check which ones are quadratic residues mod N\n",
        "quad_residues = [(value, is_quad_residue(value, N)) for value in values]\n",
        "\n",
        "quad_residues\n"
      ],
      "metadata": {
        "colab": {
          "base_uri": "https://localhost:8080/"
        },
        "id": "kcvcIi3dlSqh",
        "outputId": "31f7321e-7a59-44a2-c33e-b462b69e9ce6"
      },
      "execution_count": null,
      "outputs": [
        {
          "output_type": "execute_result",
          "data": {
            "text/plain": [
              "[(261011326, False),\n",
              " (-261011326, False),\n",
              " (1305056630, False),\n",
              " (-1305056630, True)]"
            ]
          },
          "metadata": {},
          "execution_count": 11
        }
      ]
    },
    {
      "cell_type": "code",
      "source": [
        "print(is_quad_residue(5, 16127))\n",
        "# print(jacobi_symbol(3*261011319, 262915409))"
      ],
      "metadata": {
        "colab": {
          "base_uri": "https://localhost:8080/"
        },
        "id": "ghSkGcO9spof",
        "outputId": "cefabaf5-c4c0-4660-a7d2-71330f1121b3"
      },
      "execution_count": null,
      "outputs": [
        {
          "output_type": "stream",
          "name": "stdout",
          "text": [
            "False\n"
          ]
        }
      ]
    },
    {
      "cell_type": "markdown",
      "source": [
        "## Efficient modular exponentiation $a^b mod N$"
      ],
      "metadata": {
        "id": "kctuUHbXi9QH"
      }
    },
    {
      "cell_type": "code",
      "source": [
        "def mod_exp(a, b, N):\n",
        "    t = 1\n",
        "    x = a\n",
        "\n",
        "    while b > 0:\n",
        "        if b % 2 == 1:  # 如果 b 是奇数\n",
        "            t = (t * x) % N\n",
        "            b = b - 1\n",
        "        x = (x * x) % N  # x 平方后取模\n",
        "        b = b // 2  # 将 b 整除 2\n",
        "\n",
        "    return t\n",
        "\n",
        "# 测试\n",
        "a = 987654321\n",
        "b = 261011319\n",
        "N = 263143732\n",
        "\n",
        "result = mod_exp(a, b, N)\n",
        "print(result)"
      ],
      "metadata": {
        "colab": {
          "base_uri": "https://localhost:8080/"
        },
        "id": "IcXdoVJDi3QD",
        "outputId": "8dd8cc5a-a66d-4361-cb8f-0bbe29bee0fc"
      },
      "execution_count": null,
      "outputs": [
        {
          "output_type": "stream",
          "name": "stdout",
          "text": [
            "5408869\n"
          ]
        }
      ]
    },
    {
      "cell_type": "markdown",
      "source": [
        "## Chinese Remainder Theorem CRT\n",
        "Solving congruence equations"
      ],
      "metadata": {
        "id": "Bd4XZw5WwqCv"
      }
    },
    {
      "cell_type": "code",
      "source": [
        "# x = 2 (mod 3)\n",
        "# x = 3 (mod 5)\n",
        "# x = 2 (mod 7)\n",
        "x, mod = crt([16127,16319], [14683,8586])\n",
        "print(f\"x = {x} (mod {mod})\")"
      ],
      "metadata": {
        "colab": {
          "base_uri": "https://localhost:8080/"
        },
        "id": "PfKf5zQuwtCr",
        "outputId": "d0a6aa73-6238-4893-9542-eaa9784d4e7f"
      },
      "execution_count": null,
      "outputs": [
        {
          "output_type": "stream",
          "name": "stdout",
          "text": [
            "x = 199279895 (mod 263176513)\n"
          ]
        }
      ]
    },
    {
      "cell_type": "markdown",
      "source": [
        "## Exponentiation by Squaring （15.31） $x^2 = a \\mod p$\n",
        "\n"
      ],
      "metadata": {
        "id": "mu3cp1fHZNmT"
      }
    },
    {
      "cell_type": "code",
      "execution_count": null,
      "metadata": {
        "colab": {
          "base_uri": "https://localhost:8080/"
        },
        "id": "phLjgJrpZIPd",
        "outputId": "626f732b-6ae5-437c-e9a1-9e6611c152c1"
      },
      "outputs": [
        {
          "output_type": "stream",
          "name": "stdout",
          "text": [
            "-783033957 不是模 16127 下的二次剩余\n"
          ]
        }
      ],
      "source": [
        "def mod_exp(base, exp, mod):\n",
        "    \"\"\"快速幂算法计算 base^exp mod mod\"\"\"\n",
        "    result = 1\n",
        "    while exp > 0:\n",
        "        if exp % 2 == 1:\n",
        "            result = (result * base) % mod\n",
        "        base = (base * base) % mod\n",
        "        exp //= 2\n",
        "    return result\n",
        "\n",
        "def legendre_symbol(a, p):\n",
        "    \"\"\"计算勒让德符号 (a/p)，用来判断 a 是否为模 p 的二次剩余\"\"\"\n",
        "    return mod_exp(a, (p - 1) // 2, p)\n",
        "\n",
        "def find_non_residue(p):\n",
        "    \"\"\"找到模 p 下的非二次剩余\"\"\"\n",
        "    for b in range(2, p):\n",
        "        if legendre_symbol(b, p) == p - 1:\n",
        "            return b\n",
        "    return None\n",
        "\n",
        "def sqrt_mod_prime(a, p):\n",
        "    \"\"\"计算模素数 p 下 a 的平方根\"\"\"\n",
        "    # 首先检查 a 是否为二次剩余\n",
        "    if legendre_symbol(a, p) != 1:\n",
        "        return None  # a 不是二次剩余，没有平方根\n",
        "\n",
        "    # 找到一个非二次剩余 b\n",
        "    b = find_non_residue(p)\n",
        "    if b is None:\n",
        "        return None\n",
        "\n",
        "    # 计算 l 和 m，满足 2^l * m = (p - 1) / 2\n",
        "    m = (p - 1) // 2\n",
        "    l = 0\n",
        "    while m % 2 == 0:\n",
        "        l += 1\n",
        "        m //= 2\n",
        "\n",
        "    # 初始化 r 和 r'\n",
        "    r = (2 ** l) * m\n",
        "    r_prime = 0\n",
        "\n",
        "    # 维护不变量 a^r * b^r' = 1 (mod p)\n",
        "    for i in range(l, 0, -1):\n",
        "        r //= 2\n",
        "        r_prime //= 2\n",
        "        if mod_exp(a, r, p) * mod_exp(b, r_prime, p) % p == p - 1:\n",
        "            r_prime += (2 ** (i - 1)) * m\n",
        "\n",
        "    # 计算平方根\n",
        "    sqrt = mod_exp(a, (r + 1) // 2, p) * mod_exp(b, r_prime // 2, p) % p\n",
        "    return sqrt\n",
        "\n",
        "# 示例测试\n",
        "p = 16127\n",
        "a = -3*261011319\n",
        "sqrt_a = sqrt_mod_prime(a, p)\n",
        "if sqrt_a is not None:\n",
        "    print(f\"{a} 在模 {p} 下的平方根是 {sqrt_a} 和 {p - sqrt_a}\")\n",
        "else:\n",
        "    print(f\"{a} 不是模 {p} 下的二次剩余\")\n"
      ]
    },
    {
      "cell_type": "markdown",
      "source": [
        "## Exponentiation by Squaring(another version)"
      ],
      "metadata": {
        "id": "DASkck3Oga7b"
      }
    },
    {
      "cell_type": "code",
      "source": [
        "def mod_exp(base, exp, mod):\n",
        "    \"\"\"Fast exponentiation algorithm to compute base^exp mod mod\"\"\"\n",
        "    result = 1\n",
        "    while exp > 0:\n",
        "        if exp % 2 == 1:\n",
        "            result = (result * base) % mod\n",
        "        base = (base * base) % mod\n",
        "        exp //= 2\n",
        "    return result\n",
        "\n",
        "def legendre_symbol(a, p):\n",
        "    \"\"\"Calculate the Legendre symbol (a/p) to determine if a is a quadratic residue modulo p\"\"\"\n",
        "    return mod_exp(a, (p - 1) // 2, p)\n",
        "\n",
        "def find_non_residue(p):\n",
        "    \"\"\"Find a non-quadratic residue modulo p\"\"\"\n",
        "    for b in range(2, p):\n",
        "        if legendre_symbol(b, p) == p - 1:\n",
        "            return b\n",
        "    return None\n",
        "\n",
        "def sqrt_mod_prime(a, p):\n",
        "    \"\"\"Compute the square root of a modulo a prime p\"\"\"\n",
        "    # First check if a is a quadratic residue\n",
        "    if legendre_symbol(a, p) != 1:\n",
        "        return None  # a is not a quadratic residue, no square root exists\n",
        "\n",
        "    # Find a non-quadratic residue b\n",
        "    b = find_non_residue(p)\n",
        "    if b is None:\n",
        "        return None\n",
        "\n",
        "    # Initialize r and r'\n",
        "    r = (p - 1) // 2\n",
        "    r_prime = 0\n",
        "\n",
        "    # While r is even\n",
        "    while r % 2 == 0:\n",
        "        r //= 2\n",
        "        r_prime //= 2\n",
        "        if mod_exp(a, r, p) * mod_exp(b, r_prime, p) % p == p - 1:\n",
        "            r_prime += (p - 1) // 2\n",
        "\n",
        "    # Compute the square root\n",
        "    sqrt = mod_exp(a, (r + 1) // 2, p) * mod_exp(b, r_prime // 2, p) % p\n",
        "    return sqrt\n",
        "\n",
        "# Example test\n",
        "p = 16319\n",
        "a = -5 * 261011319\n",
        "sqrt_a = sqrt_mod_prime(a, p)\n",
        "if sqrt_a is not None:\n",
        "    print(f\"The square roots of {a} modulo {p} are {sqrt_a} and {p - sqrt_a}\")\n",
        "else:\n",
        "    print(f\"{a} is not a quadratic residue modulo {p}\")"
      ],
      "metadata": {
        "colab": {
          "base_uri": "https://localhost:8080/"
        },
        "id": "Jci2Br98gXH0",
        "outputId": "6692863f-60bd-4eda-96b7-1c38af7a50da"
      },
      "execution_count": null,
      "outputs": [
        {
          "output_type": "stream",
          "name": "stdout",
          "text": [
            "The square roots of -1305056595 modulo 16319 are 7733 and 8586\n"
          ]
        }
      ]
    },
    {
      "cell_type": "markdown",
      "source": [
        "### find b"
      ],
      "metadata": {
        "id": "H1wub62xesEW"
      }
    },
    {
      "cell_type": "code",
      "source": [
        "p = 37\n",
        "reminder = []\n",
        "for i in range(1,p):\n",
        "    reminder.append((i**2) % p)\n",
        "# print(reminder)\n",
        "\n",
        "for i in range(1,p):\n",
        "  if i % p not in reminder:\n",
        "    print(i)"
      ],
      "metadata": {
        "colab": {
          "base_uri": "https://localhost:8080/"
        },
        "collapsed": true,
        "id": "xiyj3qWVerh2",
        "outputId": "28d420b0-b780-41a9-9005-3d5db8556724"
      },
      "execution_count": null,
      "outputs": [
        {
          "output_type": "stream",
          "name": "stdout",
          "text": [
            "2\n",
            "5\n",
            "6\n",
            "8\n",
            "13\n",
            "14\n",
            "15\n",
            "17\n",
            "18\n",
            "19\n",
            "20\n",
            "22\n",
            "23\n",
            "24\n",
            "29\n",
            "31\n",
            "32\n",
            "35\n"
          ]
        }
      ]
    },
    {
      "cell_type": "markdown",
      "source": [
        "## Extracting square roots modulo $N$  $r^2 = a \\mod N$ ,$N=p \\cdot q$"
      ],
      "metadata": {
        "id": "vpGV0c5omI8L"
      }
    },
    {
      "cell_type": "code",
      "source": [
        "# 求解模 p 的平方根\n",
        "def mod_sqrt(a, p):\n",
        "    results = []\n",
        "    for r in range(p):\n",
        "        if (r * r) % p == a % p:\n",
        "            results.append(r)\n",
        "    return results\n",
        "\n",
        "# 使用中国剩余定理合并解\n",
        "def solve_modular_square_root(a, N, p, q):\n",
        "    # 求模 p 和模 q 下的平方根\n",
        "    roots_p = mod_sqrt(a, p)\n",
        "    roots_q = mod_sqrt(a, q)\n",
        "\n",
        "    # 存放最终的解\n",
        "    solutions = []\n",
        "\n",
        "    # 使用中国剩余定理合并所有可能的解\n",
        "    for r_p in roots_p:\n",
        "        for r_q in roots_q:\n",
        "            r, _ = crt([p, q], [r_p, r_q])  # 使用 SymPy 的中国剩余定理\n",
        "            solutions.append(r)\n",
        "\n",
        "    return solutions\n",
        "\n",
        "# 示例\n",
        "N = 1591  # N = p * q\n",
        "p = 37\n",
        "q = 43\n",
        "a = 16  # 我们要解的是 r^2 ≡ a (mod N)\n",
        "\n",
        "# 计算模 N 的平方根\n",
        "solutions = solve_modular_square_root(a, N, p, q)\n",
        "\n",
        "# 输出解\n",
        "print(f\"模 {N} 下 r^2 ≡ {a} 的解是: {solutions}\")\n"
      ],
      "metadata": {
        "colab": {
          "base_uri": "https://localhost:8080/"
        },
        "id": "TtvSCi5ImEQn",
        "outputId": "a18bba2d-40e2-4ddd-a636-7cbb39aa2d01"
      },
      "execution_count": null,
      "outputs": [
        {
          "output_type": "stream",
          "name": "stdout",
          "text": [
            "模 1591 下 r^2 ≡ 16 的解是: [4, 1114, 477, 1587]\n"
          ]
        }
      ]
    },
    {
      "cell_type": "markdown",
      "source": [
        "## Integer Factorization Algorithm"
      ],
      "metadata": {
        "id": "ns3ffaAZgCv5"
      }
    },
    {
      "cell_type": "code",
      "source": [
        "import random\n",
        "import math\n",
        "from sympy.ntheory.residue_ntheory import sqrt_mod\n",
        "from math import gcd\n",
        "\n",
        "# 模平方根函数，使用 sympy 中的 sqrt_mod 来计算\n",
        "def sqroot_mod(a, N):\n",
        "    try:\n",
        "        return sqrt_mod(a, N, all_roots=False)  # 返回单个平方根\n",
        "    except ValueError:\n",
        "        return None  # 无法找到平方根时返回 None\n",
        "\n",
        "# 整数分解算法\n",
        "def integer_splitting(N):\n",
        "    while True:\n",
        "        r = random.randint(1, N-1)  # 随机选择一个 r\n",
        "        r_prime = sqroot_mod(r**2, N)  # 计算模 N 的平方根\n",
        "\n",
        "        if r_prime is None or r_prime == r or r_prime == N - r:\n",
        "            continue  # 如果平方根不存在，或 r' 与 r 相等，则重新尝试\n",
        "\n",
        "        # 计算 u 和 v\n",
        "        u = gcd(r + r_prime, N)\n",
        "        v = N/u\n",
        "\n",
        "        # 如果找到的 u 和 v 都大于 1，则返回结果\n",
        "        if u > 1 and v > 1:\n",
        "            return u, v\n",
        "\n",
        "# 示例用法\n",
        "N = 12  # 例子：N 是合数\n",
        "u, v = integer_splitting(N)\n",
        "print(f\"整数 {N} 被分解为 {u} 和 {v}\")\n"
      ],
      "metadata": {
        "colab": {
          "base_uri": "https://localhost:8080/"
        },
        "id": "zH7ZX0y1HjEn",
        "outputId": "d04b6ce6-deba-4636-dba9-ba9a8e3933c6"
      },
      "execution_count": 1,
      "outputs": [
        {
          "output_type": "stream",
          "name": "stdout",
          "text": [
            "整数 12 被分解为 6 和 2.0\n"
          ]
        }
      ]
    },
    {
      "cell_type": "code",
      "source": [
        "sqrt_mod(477**2, 1591, all_roots=False)"
      ],
      "metadata": {
        "colab": {
          "base_uri": "https://localhost:8080/"
        },
        "id": "hvSZV3Rhj_Ff",
        "outputId": "b2b2e6be-7f4c-404b-af4a-1c3cf797637b"
      },
      "execution_count": null,
      "outputs": [
        {
          "output_type": "execute_result",
          "data": {
            "text/plain": [
              "4"
            ]
          },
          "metadata": {},
          "execution_count": 33
        }
      ]
    },
    {
      "cell_type": "markdown",
      "source": [
        "### Recursive decomposition"
      ],
      "metadata": {
        "id": "mDsSZcWbgkyj"
      }
    },
    {
      "cell_type": "code",
      "source": [
        "# 质因数分解算法\n",
        "def integer_factoring(N):\n",
        "    # 如果 N 是质数，直接返回 [N]\n",
        "    if isprime(N):\n",
        "        return [N]\n",
        "\n",
        "    # 否则分解 N 为 u 和 v\n",
        "    u, v = integer_splitting(N)\n",
        "\n",
        "    # 递归分解 u 和 v，并返回质因数列表\n",
        "    return integer_factoring(u) + integer_factoring(v)\n",
        "\n",
        "# 示例用法\n",
        "N = 1591  # 例子：N 是合数\n",
        "factors = integer_factoring(N)\n",
        "print(f\"整数 {N} 的质因数分解为 {factors}\")"
      ],
      "metadata": {
        "colab": {
          "base_uri": "https://localhost:8080/"
        },
        "id": "fpC-3pKlgIYm",
        "outputId": "0380a2e1-6f87-47e0-9b26-0f7ecf1938ff"
      },
      "execution_count": null,
      "outputs": [
        {
          "output_type": "stream",
          "name": "stdout",
          "text": [
            "整数 1591 的质因数分解为 [37, 43]\n"
          ]
        }
      ]
    },
    {
      "cell_type": "markdown",
      "source": [
        "# Miller-Rabin Probabilistic primality testing"
      ],
      "metadata": {
        "id": "W38AtVnxYMuL"
      }
    },
    {
      "cell_type": "code",
      "source": [
        "import random\n",
        "\n",
        "# Function to perform modular exponentiation (x^y % p)\n",
        "def mod_exp(x, y, p):\n",
        "    result = 1  # Initialize result\n",
        "    x = x % p  # Update x if it is more than or equal to p\n",
        "    while y > 0:\n",
        "        # If y is odd, multiply x with the result\n",
        "        if y % 2 == 1:\n",
        "            result = (result * x) % p\n",
        "        # y must be even now\n",
        "        y = y // 2\n",
        "        x = (x * x) % p  # Change x to x^2\n",
        "    return result\n",
        "\n",
        "# Miller-Rabin test function\n",
        "def miller_rabin(N, t):\n",
        "    if N <= 1 or N == 4:\n",
        "        return False\n",
        "    if N <= 3:\n",
        "        return True\n",
        "\n",
        "    # Find d such that N-1 = 2^s * d with d odd\n",
        "    d = N - 1\n",
        "    s = 0\n",
        "    while d % 2 == 0:\n",
        "        d //= 2\n",
        "        s += 1\n",
        "\n",
        "    # Perform t iterations of the test\n",
        "    for _ in range(t):\n",
        "        a = random.randint(2, N - 2)\n",
        "        print(a)\n",
        "        x = mod_exp(a, d, N)\n",
        "\n",
        "        if x == 1 or x == N - 1:\n",
        "            continue\n",
        "\n",
        "        for _ in range(s - 1):\n",
        "            x = (x * x) % N\n",
        "            if x == N - 1:\n",
        "                break\n",
        "        else:\n",
        "            return False\n",
        "\n",
        "    return True\n",
        "\n",
        "# Example simulation\n",
        "N = 263176513  # Carmichael number (not prime but passes Fermat test, let's test it)\n",
        "t = 1   # Number of iterations\n",
        "result = miller_rabin(N, t)\n",
        "result"
      ],
      "metadata": {
        "colab": {
          "base_uri": "https://localhost:8080/"
        },
        "id": "6wuxXth8YMKx",
        "outputId": "f9b07360-4ee4-409d-9897-f0ec2fb4a844"
      },
      "execution_count": null,
      "outputs": [
        {
          "output_type": "stream",
          "name": "stdout",
          "text": [
            "213728478\n"
          ]
        },
        {
          "output_type": "execute_result",
          "data": {
            "text/plain": [
              "False"
            ]
          },
          "metadata": {},
          "execution_count": 99
        }
      ]
    },
    {
      "cell_type": "markdown",
      "source": [
        "# find Primitive Elements"
      ],
      "metadata": {
        "id": "uJ5WJlp8DOVz"
      }
    },
    {
      "cell_type": "code",
      "source": [
        "import random\n",
        "from math import gcd\n",
        "\n",
        "# 辅助函数：计算 a^b mod m\n",
        "def power_mod(a, b, m):\n",
        "    res = 1\n",
        "    a = a % m\n",
        "    while b > 0:\n",
        "        if b % 2 == 1:\n",
        "            res = (res * a) % m\n",
        "        b = b // 2\n",
        "        a = (a * a) % m\n",
        "    return res\n",
        "\n",
        "# 辅助函数：找到 q-1 的质因数分解\n",
        "def prime_factors(n):\n",
        "    factors = []\n",
        "    # 检查 2 是否是质因数\n",
        "    while n % 2 == 0:\n",
        "        factors.append(2)\n",
        "        n = n // 2\n",
        "    # 检查奇数\n",
        "    for i in range(3, int(n**0.5) + 1, 2):\n",
        "        while n % i == 0:\n",
        "            factors.append(i)\n",
        "            n = n // i\n",
        "    if n > 2:\n",
        "        factors.append(n)\n",
        "    return list(set(factors))  # 返回质因数集合\n",
        "\n",
        "# 辅助函数：寻找本原元\n",
        "def find_primitive_element(q):\n",
        "    # q-1 的质因数分解\n",
        "    phi = q - 1\n",
        "    factors = prime_factors(phi)\n",
        "\n",
        "    # 计算 m_i = (q-1) / l_i\n",
        "    m = [(phi // f) for f in factors]\n",
        "\n",
        "    while True:\n",
        "        # 随机选择一个 g ∈ {1, 2, ..., q-1}\n",
        "        g = random.randint(2, q-1)\n",
        "\n",
        "        # 检查 g 是否满足 g^m_i ≠ 1 (mod q) 对于所有 m_i\n",
        "        if all(power_mod(g, m_i, q) != 1 for m_i in m):\n",
        "            return g  # g 是本原元\n",
        "\n",
        "# 测试\n",
        "q = 23  # 选择一个有限域大小 q (q 必须是素数)\n",
        "primitive_element = find_primitive_element(q)\n",
        "print(f\"The primitive element of F_{q} is: {primitive_element}\")\n"
      ],
      "metadata": {
        "colab": {
          "base_uri": "https://localhost:8080/"
        },
        "id": "yGGjFNwTDNqO",
        "outputId": "17b76474-b451-4d6d-d535-dba815644c34"
      },
      "execution_count": null,
      "outputs": [
        {
          "output_type": "stream",
          "name": "stdout",
          "text": [
            "The primitive element of F_23 is: 14\n"
          ]
        }
      ]
    }
  ]
}